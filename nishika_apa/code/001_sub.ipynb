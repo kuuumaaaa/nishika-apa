{
 "cells": [
  {
   "cell_type": "code",
   "execution_count": 1,
   "metadata": {},
   "outputs": [
    {
     "data": {
      "text/plain": [
       "'/opt/anaconda3/lib/python3.7/site-packages/matplotlib/mpl-data/matplotlibrc'"
      ]
     },
     "execution_count": 1,
     "metadata": {},
     "output_type": "execute_result"
    }
   ],
   "source": [
    "import matplotlib\n",
    "matplotlib.matplotlib_fname()"
   ]
  },
  {
   "cell_type": "code",
   "execution_count": 2,
   "metadata": {},
   "outputs": [],
   "source": [
    "import os\n",
    "\n",
    "import pandas as pd\n",
    "import matplotlib.pyplot as plt\n",
    "import seaborn as sns\n",
    "import numpy as np\n",
    "\n",
    "from pandas_profiling import ProfileReport # profile report を作る用\n",
    "\n",
    "import glob"
   ]
  },
  {
   "cell_type": "code",
   "execution_count": 3,
   "metadata": {},
   "outputs": [],
   "source": [
    "# # train内にあるcsvのpathを取得\n",
    "# train_path=glob.glob('/work/inputs/train/*.csv')\n",
    "# train = pd.read_csv(train_path[0])\n",
    "# #trainに結合\n",
    "# for c in train_path:\n",
    "#     train_df = pd.concat([train,pd.read_csv(c)])"
   ]
  },
  {
   "cell_type": "code",
   "execution_count": 4,
   "metadata": {},
   "outputs": [],
   "source": [
    "#結合したcsvの書き出し\n",
    "# train.to_csv('/work/inputs/train.csv')"
   ]
  },
  {
   "cell_type": "code",
   "execution_count": 27,
   "metadata": {},
   "outputs": [
    {
     "name": "stderr",
     "output_type": "stream",
     "text": [
      "/opt/anaconda3/lib/python3.7/site-packages/IPython/core/interactiveshell.py:3058: DtypeWarning: Columns (11) have mixed types. Specify dtype option on import or set low_memory=False.\n",
      "  interactivity=interactivity, compiler=compiler, result=result)\n"
     ]
    }
   ],
   "source": [
    "train_df=pd.read_csv('/work/inputs/train.csv', converters={'間取り':str})\n",
    "test_df=pd.read_csv('/work/inputs/test.csv')\n",
    "sub_df=pd.read_csv('/work/inputs/sample_submission.csv')"
   ]
  },
  {
   "cell_type": "code",
   "execution_count": 6,
   "metadata": {},
   "outputs": [],
   "source": [
    "INPUT_DIR = '/work/inputs/'\n",
    "OUTPUT_DIR = '/work/outputs/'\n",
    "\n",
    "os.makedirs(OUTPUT_DIR, exist_ok=True)"
   ]
  },
  {
   "cell_type": "code",
   "execution_count": 7,
   "metadata": {},
   "outputs": [],
   "source": [
    "from ptitprince import RainCloud"
   ]
  },
  {
   "cell_type": "code",
   "execution_count": 8,
   "metadata": {},
   "outputs": [
    {
     "name": "stdout",
     "output_type": "stream",
     "text": [
      "<class 'pandas.core.frame.DataFrame'>\n",
      "RangeIndex: 1296999 entries, 0 to 1296998\n",
      "Data columns (total 29 columns):\n",
      "Unnamed: 0      1296999 non-null int64\n",
      "ID              1296999 non-null int64\n",
      "種類              1296999 non-null object\n",
      "地域              0 non-null float64\n",
      "市区町村コード         1296999 non-null int64\n",
      "都道府県名           1296999 non-null object\n",
      "市区町村名           1296999 non-null object\n",
      "地区名             1296417 non-null object\n",
      "最寄駅：名称          1291689 non-null object\n",
      "最寄駅：距離（分）       1249746 non-null object\n",
      "間取り             1296999 non-null object\n",
      "面積（㎡）           1296999 non-null object\n",
      "土地の形状           0 non-null float64\n",
      "間口              0 non-null float64\n",
      "延床面積（㎡）         0 non-null float64\n",
      "建築年             1259822 non-null object\n",
      "建物の構造           1268023 non-null object\n",
      "用途              1202723 non-null object\n",
      "今後の利用目的         559084 non-null object\n",
      "前面道路：方位         0 non-null float64\n",
      "前面道路：種類         0 non-null float64\n",
      "前面道路：幅員（ｍ）      0 non-null float64\n",
      "都市計画            1258571 non-null object\n",
      "建ぺい率（％）         1250574 non-null float64\n",
      "容積率（％）          1250574 non-null float64\n",
      "取引時点            1296999 non-null object\n",
      "改装              1181845 non-null object\n",
      "取引の事情等          37227 non-null object\n",
      "取引価格（総額）_log    1296999 non-null float64\n",
      "dtypes: float64(10), int64(3), object(16)\n",
      "memory usage: 287.0+ MB\n"
     ]
    }
   ],
   "source": [
    "train_df.info()"
   ]
  },
  {
   "cell_type": "code",
   "execution_count": 9,
   "metadata": {},
   "outputs": [
    {
     "data": {
      "text/plain": [
       "1296999"
      ]
     },
     "execution_count": 9,
     "metadata": {},
     "output_type": "execute_result"
    }
   ],
   "source": [
    "train_df['地域'].isna().sum()"
   ]
  },
  {
   "cell_type": "code",
   "execution_count": 10,
   "metadata": {},
   "outputs": [
    {
     "data": {
      "image/png": "[encoded data removed]",
      "text/plain": [
       "<Figure size 576x360 with 1 Axes>"
      ]
     },
     "metadata": {
      "needs_background": "light"
     },
     "output_type": "display_data"
    }
   ],
   "source": [
    "fig, ax = plt.subplots(figsize=(8, 5))\n",
    "RainCloud(data=train_df, y='取引価格（総額）_log', orient='h', ax=ax)\n",
    "ax.grid()"
   ]
  },
  {
   "cell_type": "code",
   "execution_count": 11,
   "metadata": {},
   "outputs": [],
   "source": [
    "#これをするとdropした後のcolumを残すことになり特徴量に文字が入ってしまうので注意。\n",
    "def drop_clum(input_df):\n",
    "    use_columns = [\n",
    "        '種類',\n",
    "        '地域',\n",
    "        '土地の形状',\n",
    "        '間口',\n",
    "        '延床面積（㎡）',\n",
    "        '前面道路：方位',\n",
    "        '前面道路：種類',\n",
    "        '前面道路：幅員（ｍ）'\n",
    "    ]\n",
    "    return input_df.drop(use_columns, axis=1).copy()"
   ]
  },
  {
   "cell_type": "code",
   "execution_count": 12,
   "metadata": {},
   "outputs": [],
   "source": [
    "def create_numeric_feature(input_df):\n",
    "    use_columns = [\n",
    "        '市区町村コード',\n",
    "        '建ぺい率（％）',\n",
    "        '容積率（％）'\n",
    "    ]\n",
    "    \n",
    "    return input_df[use_columns].copy()"
   ]
  },
  {
   "cell_type": "code",
   "execution_count": 13,
   "metadata": {},
   "outputs": [],
   "source": [
    "def create_string_length_feature(input_df):\n",
    "    out_df = pd.DataFrame()\n",
    "    \n",
    "    str_columns = [\n",
    "        '都道府県名',\n",
    "        '市区町村名',\n",
    "        '地区名',\n",
    "        '最寄駅：名称',\n",
    "        '間取り',\n",
    "        '建築年',\n",
    "        '建物の構造',\n",
    "        '用途',\n",
    "        '今後の利用目的',\n",
    "        '都市計画',\n",
    "        '取引時点',\n",
    "        '改装',\n",
    "        '取引の事情等'\n",
    "    ]\n",
    "    \n",
    "    for c in str_columns:\n",
    "        out_df[c] = input_df[c].str.len()\n",
    "        \n",
    "    return out_df.add_prefix('StringLength__')"
   ]
  },
  {
   "cell_type": "code",
   "execution_count": 14,
   "metadata": {},
   "outputs": [],
   "source": [
    "def create_count_encoding_feature(input_df):\n",
    "    use_columns = [\n",
    "        '都道府県名',\n",
    "        '市区町村名',\n",
    "        '地区名',\n",
    "        '最寄駅：名称',\n",
    "        '間取り',\n",
    "        '建築年',\n",
    "        '建物の構造',\n",
    "        '用途',\n",
    "        '今後の利用目的',\n",
    "        '都市計画',\n",
    "        '取引時点',\n",
    "        '改装',\n",
    "        '取引の事情等'\n",
    "    ]\n",
    "    \n",
    "    out_df = pd.DataFrame()\n",
    "    for column in use_columns:\n",
    "        vc = train_df[column].value_counts()\n",
    "        out_df[column] = input_df[column].map(vc)\n",
    "    \n",
    "    return out_df.add_prefix('CE_')"
   ]
  },
  {
   "cell_type": "code",
   "execution_count": 15,
   "metadata": {},
   "outputs": [],
   "source": [
    "def create_one_hot_encoding(input_df):\n",
    "    use_columns = [\n",
    "        '都道府県名',\n",
    "        '市区町村名',\n",
    "        '建築年',\n",
    "        '建物の構造',\n",
    "        '用途',\n",
    "        '都市計画',\n",
    "        '改装',\n",
    "        '取引の事情等'\n",
    "    ]\n",
    "    out_df = pd.DataFrame()\n",
    "    for column in use_columns:\n",
    "        \n",
    "        # あまり巨大な行列にならないよう, 出現回数が 20 回を下回るカテゴリは考慮しない\n",
    "        vc = train_df[column].value_counts()\n",
    "        vc = vc[vc > 50]\n",
    "        \n",
    "        # 明示的に catgories を指定して, input_df によらず列の大きさが等しくなるようにする\n",
    "        cat = pd.Categorical(input_df[column], categories=vc.index)\n",
    "        \n",
    "        # このタイミングで one-hot 化\n",
    "        out_i = pd.get_dummies(cat)\n",
    "        # column が Catgory 型として認識されているので list にして解除する (こうしないと concat でエラーになる)\n",
    "        out_i.columns = out_i.columns.tolist()\n",
    "        out_i = out_i.add_prefix(f'{column}=')\n",
    "        out_df = pd.concat([out_df, out_i], axis=1)\n",
    "    return out_df"
   ]
  },
  {
   "cell_type": "code",
   "execution_count": 16,
   "metadata": {},
   "outputs": [],
   "source": [
    "# https://github.com/nyk510/vivid/blob/master/vivid/utils.py\n",
    "from contextlib import contextmanager\n",
    "from time import time\n",
    "\n",
    "class Timer:\n",
    "    def __init__(self, logger=None, format_str='{:.3f}[s]', prefix=None, suffix=None, sep=' '):\n",
    "\n",
    "        if prefix: format_str = str(prefix) + sep + format_str\n",
    "        if suffix: format_str = format_str + sep + str(suffix)\n",
    "        self.format_str = format_str\n",
    "        self.logger = logger\n",
    "        self.start = None\n",
    "        self.end = None\n",
    "\n",
    "    @property\n",
    "    def duration(self):\n",
    "        if self.end is None:\n",
    "            return 0\n",
    "        return self.end - self.start\n",
    "\n",
    "    def __enter__(self):\n",
    "        self.start = time()\n",
    "\n",
    "    def __exit__(self, exc_type, exc_val, exc_tb):\n",
    "        self.end = time()\n",
    "        out_str = self.format_str.format(self.duration)\n",
    "        if self.logger:\n",
    "            self.logger.info(out_str)\n",
    "        else:\n",
    "            print(out_str)"
   ]
  },
  {
   "cell_type": "code",
   "execution_count": 17,
   "metadata": {},
   "outputs": [],
   "source": [
    "from tqdm import tqdm\n",
    "\n",
    "def to_feature(input_df):\n",
    "    \"\"\"input_df を特徴量行列に変換した新しいデータフレームを返す.\n",
    "    \"\"\"\n",
    "    \n",
    "    processors = [\n",
    "#         drop_clum,\n",
    "        create_numeric_feature,\n",
    "        create_string_length_feature,\n",
    "        create_count_encoding_feature\n",
    "#         one_hotでerror\n",
    "#         create_one_hot_encoding\n",
    "    ]\n",
    "    \n",
    "    out_df = pd.DataFrame()\n",
    "    \n",
    "    for func in tqdm(processors, total=len(processors)):\n",
    "        with Timer(prefix='create' + func.__name__ + ' '):\n",
    "            _df = func(input_df)\n",
    "        \n",
    "        # 長さが等しいことをチェック (ずれている場合, func の実装がおかしい)\n",
    "        assert len(_df) == len(input_df), func.__name__\n",
    "        out_df = pd.concat([out_df, _df], axis=1)\n",
    "        \n",
    "    return out_df"
   ]
  },
  {
   "cell_type": "code",
   "execution_count": 18,
   "metadata": {},
   "outputs": [
    {
     "name": "stderr",
     "output_type": "stream",
     "text": [
      "  0%|          | 0/3 [00:00<?, ?it/s]"
     ]
    },
    {
     "name": "stdout",
     "output_type": "stream",
     "text": [
      "createcreate_numeric_feature  0.015[s]\n"
     ]
    },
    {
     "name": "stderr",
     "output_type": "stream",
     "text": [
      " 67%|██████▋   | 2/3 [00:08<00:04,  4.16s/it]"
     ]
    },
    {
     "name": "stdout",
     "output_type": "stream",
     "text": [
      "createcreate_string_length_feature  8.272[s]\n"
     ]
    },
    {
     "name": "stderr",
     "output_type": "stream",
     "text": [
      "100%|██████████| 3/3 [00:14<00:00,  4.72s/it]"
     ]
    },
    {
     "name": "stdout",
     "output_type": "stream",
     "text": [
      "createcreate_count_encoding_feature  5.630[s]\n"
     ]
    },
    {
     "name": "stderr",
     "output_type": "stream",
     "text": [
      "\n",
      " 67%|██████▋   | 2/3 [00:00<00:00,  9.82it/s]"
     ]
    },
    {
     "name": "stdout",
     "output_type": "stream",
     "text": [
      "createcreate_numeric_feature  0.005[s]\n",
      "createcreate_string_length_feature  0.195[s]\n"
     ]
    },
    {
     "name": "stderr",
     "output_type": "stream",
     "text": [
      "100%|██████████| 3/3 [00:03<00:00,  1.17s/it]"
     ]
    },
    {
     "name": "stdout",
     "output_type": "stream",
     "text": [
      "createcreate_count_encoding_feature  3.294[s]\n"
     ]
    },
    {
     "name": "stderr",
     "output_type": "stream",
     "text": [
      "\n"
     ]
    }
   ],
   "source": [
    "train_feat_df = to_feature(train_df)\n",
    "test_feat_df = to_feature(test_df)"
   ]
  },
  {
   "cell_type": "code",
   "execution_count": 19,
   "metadata": {},
   "outputs": [],
   "source": [
    "import lightgbm as lgbm\n",
    "from sklearn.metrics import mean_squared_error\n",
    "\n",
    "def fit_lgbm(X, \n",
    "             y, \n",
    "             cv, \n",
    "             params: dict=None, \n",
    "             verbose: int=50):\n",
    "    \"\"\"lightGBM を CrossValidation の枠組みで学習を行なう function\"\"\"\n",
    "\n",
    "    # パラメータがないときは、空の dict で置き換える\n",
    "    if params is None:\n",
    "        params = {}\n",
    "\n",
    "    models = []\n",
    "    # training data の target と同じだけのゼロ配列を用意\n",
    "    oof_pred = np.zeros_like(y, dtype=np.float)\n",
    "\n",
    "    for i, (idx_train, idx_valid) in enumerate(cv): \n",
    "        # この部分が交差検証のところです。データセットを cv instance によって分割します\n",
    "        # training data を trian/valid に分割\n",
    "        x_train, y_train = X[idx_train], y[idx_train]\n",
    "        x_valid, y_valid = X[idx_valid], y[idx_valid]\n",
    "\n",
    "        clf = lgbm.LGBMRegressor(**params)\n",
    "        \n",
    "        with Timer(prefix='fit fold={} '.format(i)):\n",
    "            clf.fit(x_train, y_train, \n",
    "                    eval_set=[(x_valid, y_valid)],  \n",
    "                    early_stopping_rounds=100,\n",
    "                    verbose=verbose)\n",
    "\n",
    "        pred_i = clf.predict(x_valid)\n",
    "        oof_pred[idx_valid] = pred_i\n",
    "        models.append(clf)\n",
    "        print(f'Fold {i} RMSLE: {mean_squared_error(y_valid, pred_i) ** .5:.4f}')\n",
    "\n",
    "    score = mean_squared_error(y, oof_pred) ** .5\n",
    "    print('-' * 50)\n",
    "    print('FINISHED | Whole RMSLE: {:.4f}'.format(score))\n",
    "    return oof_pred, models"
   ]
  },
  {
   "cell_type": "code",
   "execution_count": 20,
   "metadata": {},
   "outputs": [],
   "source": [
    "params = {\n",
    "    # 目的関数. これの意味で最小となるようなパラメータを探します. \n",
    "    'objective': 'mae', \n",
    "    \n",
    "     # 学習率. 小さいほどなめらかな決定境界が作られて性能向上に繋がる場合が多いです、\n",
    "    # がそれだけ木を作るため学習に時間がかかります\n",
    "    'learning_rate': .1,\n",
    "    \n",
    "    # L2 Reguralization\n",
    "    'reg_lambda': 1.,\n",
    "    # こちらは L1 \n",
    "    'reg_alpha': .1,\n",
    "    \n",
    "    # 木の深さ. 深い木を許容するほどより複雑な交互作用を考慮するようになります\n",
    "    'max_depth': 5, \n",
    "    \n",
    "    # 木の最大数. early_stopping という枠組みで木の数は制御されるようにしていますのでとても大きい値を指定しておきます.\n",
    "    'n_estimators': 10000, \n",
    "    \n",
    "    # 木を作る際に考慮する特徴量の割合. 1以下を指定すると特徴をランダムに欠落させます。小さくすることで, まんべんなく特徴を使うという効果があります.\n",
    "    'colsample_bytree': .5, \n",
    "    \n",
    "    # 最小分割でのデータ数. 小さいとより細かい粒度の分割方法を許容します.\n",
    "    'min_child_samples': 10,\n",
    "    \n",
    "    # bagging の頻度と割合\n",
    "    'subsample_freq': 3,\n",
    "    'subsample': .9,\n",
    "    \n",
    "    # 特徴重要度計算のロジック(後述)\n",
    "    'importance_type': 'gain', \n",
    "    'random_state': 71,\n",
    "}"
   ]
  },
  {
   "cell_type": "code",
   "execution_count": 21,
   "metadata": {},
   "outputs": [],
   "source": [
    "y = train_df['取引価格（総額）_log'].values"
   ]
  },
  {
   "cell_type": "code",
   "execution_count": 22,
   "metadata": {},
   "outputs": [
    {
     "name": "stdout",
     "output_type": "stream",
     "text": [
      "[LightGBM] [Warning] Accuracy may be bad since you didn't explicitly set num_leaves OR 2^max_depth > num_leaves. (num_leaves=31).\n",
      "Training until validation scores don't improve for 100 rounds\n",
      "[500]\tvalid_0's l1: 0.112299\n",
      "[1000]\tvalid_0's l1: 0.105204\n",
      "[1500]\tvalid_0's l1: 0.102073\n",
      "[2000]\tvalid_0's l1: 0.100252\n",
      "[2500]\tvalid_0's l1: 0.0990627\n",
      "[3000]\tvalid_0's l1: 0.0982436\n",
      "[3500]\tvalid_0's l1: 0.0975846\n",
      "[4000]\tvalid_0's l1: 0.0971528\n",
      "[4500]\tvalid_0's l1: 0.0968389\n",
      "[5000]\tvalid_0's l1: 0.0964963\n",
      "[5500]\tvalid_0's l1: 0.0962382\n",
      "[6000]\tvalid_0's l1: 0.096027\n",
      "[6500]\tvalid_0's l1: 0.0958228\n",
      "[7000]\tvalid_0's l1: 0.0956159\n",
      "[7500]\tvalid_0's l1: 0.0954422\n",
      "[8000]\tvalid_0's l1: 0.0952692\n",
      "[8500]\tvalid_0's l1: 0.0951413\n",
      "[9000]\tvalid_0's l1: 0.0950134\n",
      "[9500]\tvalid_0's l1: 0.0948885\n",
      "[10000]\tvalid_0's l1: 0.0947703\n",
      "Did not meet early stopping. Best iteration is:\n",
      "[10000]\tvalid_0's l1: 0.0947703\n",
      "fit fold=0  1266.949[s]\n",
      "Fold 0 RMSLE: 0.1516\n",
      "[LightGBM] [Warning] Accuracy may be bad since you didn't explicitly set num_leaves OR 2^max_depth > num_leaves. (num_leaves=31).\n",
      "Training until validation scores don't improve for 100 rounds\n",
      "[500]\tvalid_0's l1: 0.112399\n",
      "[1000]\tvalid_0's l1: 0.105489\n",
      "[1500]\tvalid_0's l1: 0.102242\n",
      "[2000]\tvalid_0's l1: 0.100306\n",
      "[2500]\tvalid_0's l1: 0.0990597\n",
      "[3000]\tvalid_0's l1: 0.0982006\n",
      "[3500]\tvalid_0's l1: 0.0975037\n",
      "[4000]\tvalid_0's l1: 0.0970165\n",
      "[4500]\tvalid_0's l1: 0.0965678\n",
      "[5000]\tvalid_0's l1: 0.096257\n",
      "[5500]\tvalid_0's l1: 0.0960062\n",
      "[6000]\tvalid_0's l1: 0.0957983\n",
      "[6500]\tvalid_0's l1: 0.0955956\n",
      "[7000]\tvalid_0's l1: 0.0953959\n",
      "[7500]\tvalid_0's l1: 0.0952351\n",
      "[8000]\tvalid_0's l1: 0.095103\n",
      "[8500]\tvalid_0's l1: 0.0949529\n",
      "[9000]\tvalid_0's l1: 0.0948183\n",
      "[9500]\tvalid_0's l1: 0.0947142\n",
      "[10000]\tvalid_0's l1: 0.0945986\n",
      "Did not meet early stopping. Best iteration is:\n",
      "[10000]\tvalid_0's l1: 0.0945986\n",
      "fit fold=1  1369.434[s]\n",
      "Fold 1 RMSLE: 0.1512\n",
      "[LightGBM] [Warning] Accuracy may be bad since you didn't explicitly set num_leaves OR 2^max_depth > num_leaves. (num_leaves=31).\n",
      "Training until validation scores don't improve for 100 rounds\n",
      "[500]\tvalid_0's l1: 0.112233\n",
      "[1000]\tvalid_0's l1: 0.105283\n",
      "[1500]\tvalid_0's l1: 0.10212\n",
      "[2000]\tvalid_0's l1: 0.100374\n",
      "[2500]\tvalid_0's l1: 0.0991373\n",
      "[3000]\tvalid_0's l1: 0.098265\n",
      "[3500]\tvalid_0's l1: 0.0976304\n",
      "[4000]\tvalid_0's l1: 0.0971449\n",
      "[4500]\tvalid_0's l1: 0.0968215\n",
      "[5000]\tvalid_0's l1: 0.0965048\n",
      "[5500]\tvalid_0's l1: 0.0962448\n",
      "[6000]\tvalid_0's l1: 0.0959588\n",
      "[6500]\tvalid_0's l1: 0.0957493\n",
      "[7000]\tvalid_0's l1: 0.0955565\n",
      "[7500]\tvalid_0's l1: 0.0953891\n",
      "[8000]\tvalid_0's l1: 0.0951985\n",
      "[8500]\tvalid_0's l1: 0.0950724\n",
      "[9000]\tvalid_0's l1: 0.0949145\n",
      "[9500]\tvalid_0's l1: 0.0947808\n",
      "[10000]\tvalid_0's l1: 0.0946382\n",
      "Did not meet early stopping. Best iteration is:\n",
      "[10000]\tvalid_0's l1: 0.0946382\n",
      "fit fold=2  1813.958[s]\n",
      "Fold 2 RMSLE: 0.1512\n",
      "[LightGBM] [Warning] Accuracy may be bad since you didn't explicitly set num_leaves OR 2^max_depth > num_leaves. (num_leaves=31).\n",
      "Training until validation scores don't improve for 100 rounds\n",
      "[500]\tvalid_0's l1: 0.112318\n",
      "[1000]\tvalid_0's l1: 0.105551\n",
      "[1500]\tvalid_0's l1: 0.102207\n",
      "[2000]\tvalid_0's l1: 0.100407\n",
      "[2500]\tvalid_0's l1: 0.0992659\n",
      "[3000]\tvalid_0's l1: 0.0982977\n",
      "[3500]\tvalid_0's l1: 0.0976618\n",
      "[4000]\tvalid_0's l1: 0.0972093\n",
      "[4500]\tvalid_0's l1: 0.0968744\n",
      "[5000]\tvalid_0's l1: 0.096575\n",
      "[5500]\tvalid_0's l1: 0.0963274\n",
      "[6000]\tvalid_0's l1: 0.0961203\n",
      "[6500]\tvalid_0's l1: 0.0959363\n",
      "[7000]\tvalid_0's l1: 0.0957313\n",
      "[7500]\tvalid_0's l1: 0.0955491\n",
      "[8000]\tvalid_0's l1: 0.0953819\n",
      "[8500]\tvalid_0's l1: 0.0952149\n",
      "[9000]\tvalid_0's l1: 0.0950943\n",
      "[9500]\tvalid_0's l1: 0.0949732\n",
      "[10000]\tvalid_0's l1: 0.0948228\n",
      "Did not meet early stopping. Best iteration is:\n",
      "[10000]\tvalid_0's l1: 0.0948228\n",
      "fit fold=3  1365.229[s]\n",
      "Fold 3 RMSLE: 0.1509\n",
      "[LightGBM] [Warning] Accuracy may be bad since you didn't explicitly set num_leaves OR 2^max_depth > num_leaves. (num_leaves=31).\n",
      "Training until validation scores don't improve for 100 rounds\n",
      "[500]\tvalid_0's l1: 0.112497\n",
      "[1000]\tvalid_0's l1: 0.105123\n",
      "[1500]\tvalid_0's l1: 0.101921\n",
      "[2000]\tvalid_0's l1: 0.100301\n",
      "[2500]\tvalid_0's l1: 0.0990383\n",
      "[3000]\tvalid_0's l1: 0.0982246\n",
      "[3500]\tvalid_0's l1: 0.0976455\n",
      "[4000]\tvalid_0's l1: 0.0972289\n",
      "[4500]\tvalid_0's l1: 0.0968356\n",
      "[5000]\tvalid_0's l1: 0.0964933\n",
      "[5500]\tvalid_0's l1: 0.096263\n",
      "[6000]\tvalid_0's l1: 0.0960445\n",
      "[6500]\tvalid_0's l1: 0.0958349\n",
      "[7000]\tvalid_0's l1: 0.0956178\n",
      "[7500]\tvalid_0's l1: 0.0954571\n",
      "[8000]\tvalid_0's l1: 0.0952961\n",
      "[8500]\tvalid_0's l1: 0.0951343\n",
      "[9000]\tvalid_0's l1: 0.0949941\n",
      "[9500]\tvalid_0's l1: 0.0948887\n",
      "[10000]\tvalid_0's l1: 0.0947714\n",
      "Did not meet early stopping. Best iteration is:\n",
      "[10000]\tvalid_0's l1: 0.0947714\n",
      "fit fold=4  1448.981[s]\n",
      "Fold 4 RMSLE: 0.1517\n",
      "--------------------------------------------------\n",
      "FINISHED | Whole RMSLE: 0.1513\n"
     ]
    }
   ],
   "source": [
    "from sklearn.model_selection import KFold\n",
    "\n",
    "fold = KFold(n_splits=5, shuffle=True, random_state=71)\n",
    "cv = list(fold.split(train_feat_df, y)) # もともとが generator なため明示的に list に変換する\n",
    "oof, models = fit_lgbm(train_feat_df.values, y, cv, params=params, verbose=500)"
   ]
  },
  {
   "cell_type": "code",
   "execution_count": 23,
   "metadata": {},
   "outputs": [
    {
     "data": {
      "image/png": "[encoded data removed]",
      "text/plain": [
       "<Figure size 576x522 with 1 Axes>"
      ]
     },
     "metadata": {
      "needs_background": "light"
     },
     "output_type": "display_data"
    }
   ],
   "source": [
    "def visualize_importance(models, feat_train_df):\n",
    "    \"\"\"lightGBM の model 配列の feature importance を plot する\n",
    "    CVごとのブレを boxen plot として表現します.\n",
    "    \n",
    "    args:\n",
    "        models:\n",
    "            List of lightGBM models\n",
    "        feat_train_df:\n",
    "            学習時に使った DataFrame\n",
    "    \"\"\"\n",
    "    feature_importance_df = pd.DataFrame()\n",
    "    for i, model in enumerate(models):\n",
    "        _df = pd.DataFrame()\n",
    "        _df['feature_importance'] = model.feature_importances_\n",
    "        _df['column'] = feat_train_df.columns\n",
    "        _df['fold'] = i + 1\n",
    "        feature_importance_df = pd.concat([feature_importance_df, _df], \n",
    "                                          axis=0, ignore_index=True)\n",
    "\n",
    "    order = feature_importance_df.groupby('column')\\\n",
    "        .sum()[['feature_importance']]\\\n",
    "        .sort_values('feature_importance', ascending=False).index[:50]\n",
    "\n",
    "    fig, ax = plt.subplots(figsize=(8, max(6, len(order) * .25)))\n",
    "    sns.boxenplot(data=feature_importance_df, \n",
    "                  x='feature_importance', \n",
    "                  y='column', \n",
    "                  order=order, \n",
    "                  ax=ax, \n",
    "                  palette='viridis', \n",
    "                  orient='h')\n",
    "    ax.tick_params(axis='x', rotation=90)\n",
    "    ax.set_title('Importance')\n",
    "    ax.grid()\n",
    "    fig.tight_layout()\n",
    "    return fig, ax\n",
    "\n",
    "fig, ax = visualize_importance(models, train_feat_df)"
   ]
  },
  {
   "cell_type": "code",
   "execution_count": 24,
   "metadata": {},
   "outputs": [
    {
     "data": {
      "text/plain": [
       "'/root/.config/matplotlib'"
      ]
     },
     "execution_count": 24,
     "metadata": {},
     "output_type": "execute_result"
    }
   ],
   "source": [
    "import matplotlib as mpl\n",
    "mpl.get_configdir()"
   ]
  },
  {
   "cell_type": "code",
   "execution_count": 25,
   "metadata": {},
   "outputs": [],
   "source": [
    "pred = np.array([model.predict(test_feat_df.values) for model in models])\n",
    "pred = np.mean(pred, axis=0)\n",
    "# pred = revert_to_real(pred)\n",
    "sub_df_hoge = sub_df.copy()\n",
    "sub_df_hoge['取引価格（総額）_log'] = pred\n",
    "sub_df_hoge.to_csv(os.path.join(OUTPUT_DIR, '0001__submission.csv'), index=False)"
   ]
  },
  {
   "cell_type": "code",
   "execution_count": 26,
   "metadata": {},
   "outputs": [
    {
     "data": {
      "image/png": "[encoded data removed]",
      "text/plain": [
       "<Figure size 576x576 with 1 Axes>"
      ]
     },
     "metadata": {
      "needs_background": "light"
     },
     "output_type": "display_data"
    }
   ],
   "source": [
    "fig, ax = plt.subplots(figsize=(8, 8))\n",
    "sns.histplot(pred, label='Test Predict', ax=ax, color='black')\n",
    "sns.histplot(oof, label='Out Of Fold', ax=ax, color='C1')\n",
    "ax.legend()\n",
    "ax.grid()"
   ]
  }
 ],
 "metadata": {
  "kernelspec": {
   "display_name": "Python 3",
   "language": "python",
   "name": "python3"
  },
  "language_info": {
   "codemirror_mode": {
    "name": "ipython",
    "version": 3
   },
   "file_extension": ".py",
   "mimetype": "text/x-python",
   "name": "python",
   "nbconvert_exporter": "python",
   "pygments_lexer": "ipython3",
   "version": "3.7.4"
  }
 },
 "nbformat": 4,
 "nbformat_minor": 4
}
